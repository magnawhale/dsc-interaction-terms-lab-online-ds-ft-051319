{
 "cells": [
  {
   "cell_type": "markdown",
   "metadata": {},
   "source": [
    "# Interactions - Lab"
   ]
  },
  {
   "cell_type": "markdown",
   "metadata": {},
   "source": [
    "## Introduction"
   ]
  },
  {
   "cell_type": "markdown",
   "metadata": {},
   "source": [
    "In this lab, you'll explore interactions in the Boston Housing data set."
   ]
  },
  {
   "cell_type": "markdown",
   "metadata": {},
   "source": [
    "## Objectives"
   ]
  },
  {
   "cell_type": "markdown",
   "metadata": {},
   "source": [
    "You will be able to:\n",
    "- Understand what interactions are\n",
    "- Understand how to accommodate for interactions in regression"
   ]
  },
  {
   "cell_type": "markdown",
   "metadata": {},
   "source": [
    "## Build a baseline model "
   ]
  },
  {
   "cell_type": "markdown",
   "metadata": {},
   "source": [
    "You'll use a couple of built-in functions, which we imported for you below."
   ]
  },
  {
   "cell_type": "code",
   "execution_count": 1,
   "metadata": {},
   "outputs": [],
   "source": [
    "from sklearn.linear_model import LinearRegression\n",
    "from sklearn.model_selection import cross_val_score\n",
    "from sklearn.model_selection import KFold\n",
    "from sklearn.datasets import load_boston\n",
    "import pandas as pd\n",
    "import numpy as np\n",
    "import matplotlib.pyplot as plt"
   ]
  },
  {
   "cell_type": "markdown",
   "metadata": {},
   "source": [
    "Import the Boston data set using `load_boston()`. We won't bother to preprocess the data in this lab. If you still want to build a model in the end, you can do that, but this lab will just focus on finding meaningful insights in interactions and how they can improve $R^2$ values."
   ]
  },
  {
   "cell_type": "code",
   "execution_count": 2,
   "metadata": {},
   "outputs": [],
   "source": [
    "regression = LinearRegression()\n",
    "boston = load_boston()"
   ]
  },
  {
   "cell_type": "markdown",
   "metadata": {},
   "source": [
    "Create a baseline model which includes all the variables in the Boston housing data set to predict the house prices. Then use 10-fold cross-validation and report the mean $R^2$ value as the baseline $R^2$."
   ]
  },
  {
   "cell_type": "code",
   "execution_count": 17,
   "metadata": {},
   "outputs": [
    {
     "data": {
      "text/html": [
       "<div>\n",
       "<style scoped>\n",
       "    .dataframe tbody tr th:only-of-type {\n",
       "        vertical-align: middle;\n",
       "    }\n",
       "\n",
       "    .dataframe tbody tr th {\n",
       "        vertical-align: top;\n",
       "    }\n",
       "\n",
       "    .dataframe thead th {\n",
       "        text-align: right;\n",
       "    }\n",
       "</style>\n",
       "<table border=\"1\" class=\"dataframe\">\n",
       "  <thead>\n",
       "    <tr style=\"text-align: right;\">\n",
       "      <th></th>\n",
       "      <th>CRIM</th>\n",
       "      <th>ZN</th>\n",
       "      <th>INDUS</th>\n",
       "      <th>CHAS</th>\n",
       "      <th>NOX</th>\n",
       "      <th>RM</th>\n",
       "      <th>AGE</th>\n",
       "      <th>DIS</th>\n",
       "      <th>RAD</th>\n",
       "      <th>TAX</th>\n",
       "      <th>PTRATIO</th>\n",
       "      <th>B</th>\n",
       "      <th>LSTAT</th>\n",
       "    </tr>\n",
       "  </thead>\n",
       "  <tbody>\n",
       "    <tr>\n",
       "      <th>0</th>\n",
       "      <td>0.00632</td>\n",
       "      <td>18.0</td>\n",
       "      <td>2.31</td>\n",
       "      <td>0.0</td>\n",
       "      <td>0.538</td>\n",
       "      <td>6.575</td>\n",
       "      <td>65.2</td>\n",
       "      <td>4.0900</td>\n",
       "      <td>1.0</td>\n",
       "      <td>296.0</td>\n",
       "      <td>15.3</td>\n",
       "      <td>396.90</td>\n",
       "      <td>4.98</td>\n",
       "    </tr>\n",
       "    <tr>\n",
       "      <th>1</th>\n",
       "      <td>0.02731</td>\n",
       "      <td>0.0</td>\n",
       "      <td>7.07</td>\n",
       "      <td>0.0</td>\n",
       "      <td>0.469</td>\n",
       "      <td>6.421</td>\n",
       "      <td>78.9</td>\n",
       "      <td>4.9671</td>\n",
       "      <td>2.0</td>\n",
       "      <td>242.0</td>\n",
       "      <td>17.8</td>\n",
       "      <td>396.90</td>\n",
       "      <td>9.14</td>\n",
       "    </tr>\n",
       "    <tr>\n",
       "      <th>2</th>\n",
       "      <td>0.02729</td>\n",
       "      <td>0.0</td>\n",
       "      <td>7.07</td>\n",
       "      <td>0.0</td>\n",
       "      <td>0.469</td>\n",
       "      <td>7.185</td>\n",
       "      <td>61.1</td>\n",
       "      <td>4.9671</td>\n",
       "      <td>2.0</td>\n",
       "      <td>242.0</td>\n",
       "      <td>17.8</td>\n",
       "      <td>392.83</td>\n",
       "      <td>4.03</td>\n",
       "    </tr>\n",
       "    <tr>\n",
       "      <th>3</th>\n",
       "      <td>0.03237</td>\n",
       "      <td>0.0</td>\n",
       "      <td>2.18</td>\n",
       "      <td>0.0</td>\n",
       "      <td>0.458</td>\n",
       "      <td>6.998</td>\n",
       "      <td>45.8</td>\n",
       "      <td>6.0622</td>\n",
       "      <td>3.0</td>\n",
       "      <td>222.0</td>\n",
       "      <td>18.7</td>\n",
       "      <td>394.63</td>\n",
       "      <td>2.94</td>\n",
       "    </tr>\n",
       "    <tr>\n",
       "      <th>4</th>\n",
       "      <td>0.06905</td>\n",
       "      <td>0.0</td>\n",
       "      <td>2.18</td>\n",
       "      <td>0.0</td>\n",
       "      <td>0.458</td>\n",
       "      <td>7.147</td>\n",
       "      <td>54.2</td>\n",
       "      <td>6.0622</td>\n",
       "      <td>3.0</td>\n",
       "      <td>222.0</td>\n",
       "      <td>18.7</td>\n",
       "      <td>396.90</td>\n",
       "      <td>5.33</td>\n",
       "    </tr>\n",
       "  </tbody>\n",
       "</table>\n",
       "</div>"
      ],
      "text/plain": [
       "      CRIM    ZN  INDUS  CHAS    NOX     RM   AGE     DIS  RAD    TAX  \\\n",
       "0  0.00632  18.0   2.31   0.0  0.538  6.575  65.2  4.0900  1.0  296.0   \n",
       "1  0.02731   0.0   7.07   0.0  0.469  6.421  78.9  4.9671  2.0  242.0   \n",
       "2  0.02729   0.0   7.07   0.0  0.469  7.185  61.1  4.9671  2.0  242.0   \n",
       "3  0.03237   0.0   2.18   0.0  0.458  6.998  45.8  6.0622  3.0  222.0   \n",
       "4  0.06905   0.0   2.18   0.0  0.458  7.147  54.2  6.0622  3.0  222.0   \n",
       "\n",
       "   PTRATIO       B  LSTAT  \n",
       "0     15.3  396.90   4.98  \n",
       "1     17.8  396.90   9.14  \n",
       "2     17.8  392.83   4.03  \n",
       "3     18.7  394.63   2.94  \n",
       "4     18.7  396.90   5.33  "
      ]
     },
     "metadata": {},
     "output_type": "display_data"
    },
    {
     "data": {
      "text/html": [
       "<div>\n",
       "<style scoped>\n",
       "    .dataframe tbody tr th:only-of-type {\n",
       "        vertical-align: middle;\n",
       "    }\n",
       "\n",
       "    .dataframe tbody tr th {\n",
       "        vertical-align: top;\n",
       "    }\n",
       "\n",
       "    .dataframe thead th {\n",
       "        text-align: right;\n",
       "    }\n",
       "</style>\n",
       "<table border=\"1\" class=\"dataframe\">\n",
       "  <thead>\n",
       "    <tr style=\"text-align: right;\">\n",
       "      <th></th>\n",
       "      <th>MEDV</th>\n",
       "    </tr>\n",
       "  </thead>\n",
       "  <tbody>\n",
       "    <tr>\n",
       "      <th>0</th>\n",
       "      <td>24.0</td>\n",
       "    </tr>\n",
       "    <tr>\n",
       "      <th>1</th>\n",
       "      <td>21.6</td>\n",
       "    </tr>\n",
       "    <tr>\n",
       "      <th>2</th>\n",
       "      <td>34.7</td>\n",
       "    </tr>\n",
       "    <tr>\n",
       "      <th>3</th>\n",
       "      <td>33.4</td>\n",
       "    </tr>\n",
       "    <tr>\n",
       "      <th>4</th>\n",
       "      <td>36.2</td>\n",
       "    </tr>\n",
       "  </tbody>\n",
       "</table>\n",
       "</div>"
      ],
      "text/plain": [
       "   MEDV\n",
       "0  24.0\n",
       "1  21.6\n",
       "2  34.7\n",
       "3  33.4\n",
       "4  36.2"
      ]
     },
     "execution_count": 17,
     "metadata": {},
     "output_type": "execute_result"
    }
   ],
   "source": [
    "X = pd.DataFrame(data=boston.data, columns=boston.feature_names)\n",
    "y = pd.DataFrame(data=boston.target, columns=['MEDV'])\n",
    "all_data = pd.concat([y,X], axis = 1)\n",
    "display(X.head())\n",
    "y.head()"
   ]
  },
  {
   "cell_type": "code",
   "execution_count": 4,
   "metadata": {},
   "outputs": [
    {
     "data": {
      "text/plain": [
       "0.7190106820189477"
      ]
     },
     "execution_count": 4,
     "metadata": {},
     "output_type": "execute_result"
    }
   ],
   "source": [
    "regression = LinearRegression()\n",
    "crossvalidation = KFold(n_splits=10, shuffle=True, random_state=1)\n",
    "\n",
    "baseline = np.mean(cross_val_score(regression, X, y, scoring=\"r2\", cv=crossvalidation))\n",
    "baseline"
   ]
  },
  {
   "cell_type": "code",
   "execution_count": 5,
   "metadata": {},
   "outputs": [
    {
     "data": {
      "text/plain": [
       "0.7190106820189477"
      ]
     },
     "execution_count": 5,
     "metadata": {},
     "output_type": "execute_result"
    }
   ],
   "source": [
    "baseline"
   ]
  },
  {
   "cell_type": "markdown",
   "metadata": {},
   "source": [
    "## See how interactions improve your baseline"
   ]
  },
  {
   "cell_type": "markdown",
   "metadata": {},
   "source": [
    "Next, create all possible combinations of interactions, loop over them and add them to the baseline model one by one to see how they affect the $R^2$. We'll look at the 3 interactions which have the biggest effect on our $R^2$, so print out the top 3 combinations.\n",
    "\n",
    "You will create a for loop to loop through all the combinations of 2 predictors. You can use `combinations` from itertools to create a list of all the pairwise combinations. To find more info on how this is done, have a look [here](https://docs.python.org/2/library/itertools.html)."
   ]
  },
  {
   "cell_type": "code",
   "execution_count": 6,
   "metadata": {},
   "outputs": [],
   "source": [
    "from itertools import combinations\n",
    "combinations = list(combinations(boston.feature_names, 2))"
   ]
  },
  {
   "cell_type": "code",
   "execution_count": 13,
   "metadata": {
    "scrolled": true
   },
   "outputs": [
    {
     "data": {
      "text/plain": [
       "[('RM', 'LSTAT', 0.7865), ('RM', 'TAX', 0.7751), ('RM', 'RAD', 0.7682)]"
      ]
     },
     "execution_count": 13,
     "metadata": {},
     "output_type": "execute_result"
    }
   ],
   "source": [
    "X_interact = X.copy()\n",
    "r_scores = []\n",
    "for combo in combinations:\n",
    "    X_interact['interaction'] = X[combo[0]] * X[combo[1]]\n",
    "    temp_r2 = np.mean(cross_val_score(regression, X_interact, y, scoring=\"r2\", cv=crossvalidation))\n",
    "    if temp_r2 > baseline: r_scores.append((combo[0], combo[1], round(temp_r2,4)))\n",
    "r_scores.sort(key=lambda row: row[-1], reverse=True)  # sorts in place\n",
    "r_scores[:3]"
   ]
  },
  {
   "cell_type": "markdown",
   "metadata": {},
   "source": [
    "## Look at the top 3 interactions: \"RM\" as a confounding factor"
   ]
  },
  {
   "cell_type": "markdown",
   "metadata": {},
   "source": [
    "The top three interactions seem to involve \"RM\", the number of rooms as a confounding variable for all of them. Let's have a look at interaction plots for all three of them. This exercise will involve:\n",
    "\n",
    "- splitting the data up in 3 groups: one for houses with a few rooms, one for houses with a \"medium\" amount of rooms, one for a high amount of rooms.\n",
    "- Create a function `build_interaction_rm`. This function takes an argument `varname` (which can be set equal to the column name as a string) and a column `description` (which describes the variable or varname, to be included on the x-axis of the plot). The function outputs a plot that uses \"RM\" as a confounding factor. Each plot should have three regression lines, one for each level of \"RM.\" "
   ]
  },
  {
   "cell_type": "markdown",
   "metadata": {},
   "source": [
    "The data has been split into high, medium and low number of rooms for you."
   ]
  },
  {
   "cell_type": "code",
   "execution_count": 18,
   "metadata": {},
   "outputs": [],
   "source": [
    "rm = np.asarray(X[[\"RM\"]]).reshape(len(X[[\"RM\"]]))"
   ]
  },
  {
   "cell_type": "code",
   "execution_count": 19,
   "metadata": {},
   "outputs": [],
   "source": [
    "high_rm = all_data[rm > np.percentile(rm, 67)]\n",
    "med_rm = all_data[(rm > np.percentile(rm, 33)) & (rm <= np.percentile(rm, 67))]\n",
    "low_rm = all_data[rm <= np.percentile(rm, 33)]"
   ]
  },
  {
   "cell_type": "markdown",
   "metadata": {},
   "source": [
    "Create `build_interaction_rm`."
   ]
  },
  {
   "cell_type": "code",
   "execution_count": 32,
   "metadata": {},
   "outputs": [],
   "source": [
    "def build_interaction_rm(varname):\n",
    "    regression_h = LinearRegression()\n",
    "    regression_m = LinearRegression()\n",
    "    regression_l = LinearRegression()\n",
    "    regression_h.fit(high_rm[varname].values.reshape(-1, 1), high_rm[\"MEDV\"])\n",
    "    regression_m.fit(med_rm[varname].values.reshape(-1, 1), med_rm[\"MEDV\"])\n",
    "    regression_l.fit(low_rm[varname].values.reshape(-1, 1), low_rm[\"MEDV\"])\n",
    "\n",
    "    # Make predictions using the testing set\n",
    "    pred_h = regression_h.predict(high_rm[varname].values.reshape(-1, 1))\n",
    "    pred_m = regression_m.predict(med_rm[varname].values.reshape(-1, 1))\n",
    "    pred_l = regression_l.predict(low_rm[varname].values.reshape(-1, 1))\n",
    "    \n",
    "    # The coefficients\n",
    "    print(regression_h.coef_)\n",
    "    print(regression_m.coef_)\n",
    "    print(regression_l.coef_)\n",
    "    \n",
    "    # Plotting\n",
    "    plt.figure(figsize=(10,6))\n",
    "\n",
    "    plt.scatter(high_rm[varname], high_rm[\"MEDV\"],  color='blue', alpha = 0.3, label = \"high_rm\")\n",
    "    plt.scatter(med_rm[varname], med_rm[\"MEDV\"],  color='red', alpha = 0.3, label = \"med_rm\")\n",
    "    plt.scatter(low_rm[varname], low_rm[\"MEDV\"],  color='orange', alpha = 0.3, label = \"low_rm\")\n",
    "\n",
    "    plt.plot(high_rm[varname], pred_h,  color='blue', linewidth=2)\n",
    "    plt.plot(med_rm[varname], pred_m,  color='red', linewidth=2)\n",
    "    plt.plot(low_rm[varname], pred_l,  color='orange', linewidth=2)\n",
    "    plt.ylabel(\"MEDV\")\n",
    "    plt.xlabel(f\"{varname}\")\n",
    "    plt.legend();\n",
    "    pass "
   ]
  },
  {
   "cell_type": "markdown",
   "metadata": {},
   "source": [
    "Next, use build_interaction_rm with the three variables that came out with the highest effect on $R^2$"
   ]
  },
  {
   "cell_type": "code",
   "execution_count": 33,
   "metadata": {},
   "outputs": [
    {
     "name": "stdout",
     "output_type": "stream",
     "text": [
      "[-1.46614438]\n",
      "[-0.67588205]\n",
      "[-0.51981339]\n"
     ]
    },
    {
     "data": {
      "image/png": "[encoded data removed]",
      "text/plain": [
       "<Figure size 720x432 with 1 Axes>"
      ]
     },
     "metadata": {
      "needs_background": "light"
     },
     "output_type": "display_data"
    }
   ],
   "source": [
    "# first plot\n",
    "build_interaction_rm(r_scores[0][1])"
   ]
  },
  {
   "cell_type": "code",
   "execution_count": 34,
   "metadata": {},
   "outputs": [
    {
     "name": "stdout",
     "output_type": "stream",
     "text": [
      "[-0.03708037]\n",
      "[-0.01431143]\n",
      "[-0.01166035]\n"
     ]
    },
    {
     "data": {
      "image/png": "[encoded data removed]",
      "text/plain": [
       "<Figure size 720x432 with 1 Axes>"
      ]
     },
     "metadata": {
      "needs_background": "light"
     },
     "output_type": "display_data"
    }
   ],
   "source": [
    "# second plot\n",
    "build_interaction_rm(r_scores[1][1])"
   ]
  },
  {
   "cell_type": "code",
   "execution_count": 35,
   "metadata": {},
   "outputs": [
    {
     "name": "stdout",
     "output_type": "stream",
     "text": [
      "[-0.66803793]\n",
      "[-0.24276834]\n",
      "[-0.17393132]\n"
     ]
    },
    {
     "data": {
      "image/png": "[encoded data removed]",
      "text/plain": [
       "<Figure size 720x432 with 1 Axes>"
      ]
     },
     "metadata": {
      "needs_background": "light"
     },
     "output_type": "display_data"
    }
   ],
   "source": [
    "# third plot\n",
    "build_interaction_rm(r_scores[2][1])"
   ]
  },
  {
   "cell_type": "markdown",
   "metadata": {},
   "source": [
    "## Build a final model including all three interactions at once"
   ]
  },
  {
   "cell_type": "markdown",
   "metadata": {},
   "source": [
    "Use 10-fold cross validation."
   ]
  },
  {
   "cell_type": "code",
   "execution_count": 38,
   "metadata": {},
   "outputs": [
    {
     "data": {
      "text/plain": [
       "0.7852890964511973"
      ]
     },
     "execution_count": 38,
     "metadata": {},
     "output_type": "execute_result"
    }
   ],
   "source": [
    "X_interact_2 = X.copy()\n",
    "for combo in r_scores[:3]:\n",
    "    X_interact_2[f'{combo[0]}_{combo[1]}'] = X[combo[0]] * X[combo[1]]\n",
    "new_baseline = np.mean(cross_val_score(regression, X_interact_2, y, scoring=\"r2\", cv=crossvalidation))\n",
    "new_baseline"
   ]
  },
  {
   "cell_type": "markdown",
   "metadata": {},
   "source": [
    "Our $R^2$ has increased considerably! Let's have a look in statsmodels to see if all these interactions are significant."
   ]
  },
  {
   "cell_type": "code",
   "execution_count": 40,
   "metadata": {},
   "outputs": [
    {
     "data": {
      "text/html": [
       "<table class=\"simpletable\">\n",
       "<caption>OLS Regression Results</caption>\n",
       "<tr>\n",
       "  <th>Dep. Variable:</th>          <td>MEDV</td>       <th>  R-squared:         </th> <td>   0.815</td> \n",
       "</tr>\n",
       "<tr>\n",
       "  <th>Model:</th>                   <td>OLS</td>       <th>  Adj. R-squared:    </th> <td>   0.809</td> \n",
       "</tr>\n",
       "<tr>\n",
       "  <th>Method:</th>             <td>Least Squares</td>  <th>  F-statistic:       </th> <td>   134.3</td> \n",
       "</tr>\n",
       "<tr>\n",
       "  <th>Date:</th>             <td>Thu, 18 Jul 2019</td> <th>  Prob (F-statistic):</th> <td>3.25e-167</td>\n",
       "</tr>\n",
       "<tr>\n",
       "  <th>Time:</th>                 <td>17:29:06</td>     <th>  Log-Likelihood:    </th> <td> -1413.9</td> \n",
       "</tr>\n",
       "<tr>\n",
       "  <th>No. Observations:</th>      <td>   506</td>      <th>  AIC:               </th> <td>   2862.</td> \n",
       "</tr>\n",
       "<tr>\n",
       "  <th>Df Residuals:</th>          <td>   489</td>      <th>  BIC:               </th> <td>   2934.</td> \n",
       "</tr>\n",
       "<tr>\n",
       "  <th>Df Model:</th>              <td>    16</td>      <th>                     </th>     <td> </td>    \n",
       "</tr>\n",
       "<tr>\n",
       "  <th>Covariance Type:</th>      <td>nonrobust</td>    <th>                     </th>     <td> </td>    \n",
       "</tr>\n",
       "</table>\n",
       "<table class=\"simpletable\">\n",
       "<tr>\n",
       "      <td></td>        <th>coef</th>     <th>std err</th>      <th>t</th>      <th>P>|t|</th>  <th>[0.025</th>    <th>0.975]</th>  \n",
       "</tr>\n",
       "<tr>\n",
       "  <th>const</th>    <td>  -14.8453</td> <td>    7.428</td> <td>   -1.998</td> <td> 0.046</td> <td>  -29.441</td> <td>   -0.250</td>\n",
       "</tr>\n",
       "<tr>\n",
       "  <th>CRIM</th>     <td>   -0.1628</td> <td>    0.028</td> <td>   -5.756</td> <td> 0.000</td> <td>   -0.218</td> <td>   -0.107</td>\n",
       "</tr>\n",
       "<tr>\n",
       "  <th>ZN</th>       <td>    0.0174</td> <td>    0.012</td> <td>    1.463</td> <td> 0.144</td> <td>   -0.006</td> <td>    0.041</td>\n",
       "</tr>\n",
       "<tr>\n",
       "  <th>INDUS</th>    <td>    0.0900</td> <td>    0.053</td> <td>    1.707</td> <td> 0.088</td> <td>   -0.014</td> <td>    0.194</td>\n",
       "</tr>\n",
       "<tr>\n",
       "  <th>CHAS</th>     <td>    2.5988</td> <td>    0.740</td> <td>    3.511</td> <td> 0.000</td> <td>    1.144</td> <td>    4.053</td>\n",
       "</tr>\n",
       "<tr>\n",
       "  <th>NOX</th>      <td>  -13.4647</td> <td>    3.277</td> <td>   -4.109</td> <td> 0.000</td> <td>  -19.903</td> <td>   -7.026</td>\n",
       "</tr>\n",
       "<tr>\n",
       "  <th>RM</th>       <td>   10.8250</td> <td>    0.986</td> <td>   10.976</td> <td> 0.000</td> <td>    8.887</td> <td>   12.763</td>\n",
       "</tr>\n",
       "<tr>\n",
       "  <th>AGE</th>      <td>    0.0052</td> <td>    0.011</td> <td>    0.461</td> <td> 0.645</td> <td>   -0.017</td> <td>    0.028</td>\n",
       "</tr>\n",
       "<tr>\n",
       "  <th>DIS</th>      <td>   -0.9547</td> <td>    0.175</td> <td>   -5.469</td> <td> 0.000</td> <td>   -1.298</td> <td>   -0.612</td>\n",
       "</tr>\n",
       "<tr>\n",
       "  <th>RAD</th>      <td>    0.7093</td> <td>    0.476</td> <td>    1.489</td> <td> 0.137</td> <td>   -0.227</td> <td>    1.645</td>\n",
       "</tr>\n",
       "<tr>\n",
       "  <th>TAX</th>      <td>    0.0333</td> <td>    0.025</td> <td>    1.354</td> <td> 0.176</td> <td>   -0.015</td> <td>    0.082</td>\n",
       "</tr>\n",
       "<tr>\n",
       "  <th>PTRATIO</th>  <td>   -0.6849</td> <td>    0.113</td> <td>   -6.068</td> <td> 0.000</td> <td>   -0.907</td> <td>   -0.463</td>\n",
       "</tr>\n",
       "<tr>\n",
       "  <th>B</th>        <td>    0.0048</td> <td>    0.002</td> <td>    2.068</td> <td> 0.039</td> <td>    0.000</td> <td>    0.009</td>\n",
       "</tr>\n",
       "<tr>\n",
       "  <th>LSTAT</th>    <td>    1.1528</td> <td>    0.232</td> <td>    4.973</td> <td> 0.000</td> <td>    0.697</td> <td>    1.608</td>\n",
       "</tr>\n",
       "<tr>\n",
       "  <th>RM_LSTAT</th> <td>   -0.2916</td> <td>    0.041</td> <td>   -7.169</td> <td> 0.000</td> <td>   -0.372</td> <td>   -0.212</td>\n",
       "</tr>\n",
       "<tr>\n",
       "  <th>RM_TAX</th>   <td>   -0.0072</td> <td>    0.004</td> <td>   -1.828</td> <td> 0.068</td> <td>   -0.015</td> <td>    0.001</td>\n",
       "</tr>\n",
       "<tr>\n",
       "  <th>RM_RAD</th>   <td>   -0.0699</td> <td>    0.078</td> <td>   -0.896</td> <td> 0.371</td> <td>   -0.223</td> <td>    0.083</td>\n",
       "</tr>\n",
       "</table>\n",
       "<table class=\"simpletable\">\n",
       "<tr>\n",
       "  <th>Omnibus:</th>       <td>255.231</td> <th>  Durbin-Watson:     </th> <td>   1.087</td>\n",
       "</tr>\n",
       "<tr>\n",
       "  <th>Prob(Omnibus):</th> <td> 0.000</td>  <th>  Jarque-Bera (JB):  </th> <td>2564.486</td>\n",
       "</tr>\n",
       "<tr>\n",
       "  <th>Skew:</th>          <td> 1.963</td>  <th>  Prob(JB):          </th> <td>    0.00</td>\n",
       "</tr>\n",
       "<tr>\n",
       "  <th>Kurtosis:</th>      <td>13.307</td>  <th>  Cond. No.          </th> <td>1.18e+05</td>\n",
       "</tr>\n",
       "</table><br/><br/>Warnings:<br/>[1] Standard Errors assume that the covariance matrix of the errors is correctly specified.<br/>[2] The condition number is large, 1.18e+05. This might indicate that there are<br/>strong multicollinearity or other numerical problems."
      ],
      "text/plain": [
       "<class 'statsmodels.iolib.summary.Summary'>\n",
       "\"\"\"\n",
       "                            OLS Regression Results                            \n",
       "==============================================================================\n",
       "Dep. Variable:                   MEDV   R-squared:                       0.815\n",
       "Model:                            OLS   Adj. R-squared:                  0.809\n",
       "Method:                 Least Squares   F-statistic:                     134.3\n",
       "Date:                Thu, 18 Jul 2019   Prob (F-statistic):          3.25e-167\n",
       "Time:                        17:29:06   Log-Likelihood:                -1413.9\n",
       "No. Observations:                 506   AIC:                             2862.\n",
       "Df Residuals:                     489   BIC:                             2934.\n",
       "Df Model:                          16                                         \n",
       "Covariance Type:            nonrobust                                         \n",
       "==============================================================================\n",
       "                 coef    std err          t      P>|t|      [0.025      0.975]\n",
       "------------------------------------------------------------------------------\n",
       "const        -14.8453      7.428     -1.998      0.046     -29.441      -0.250\n",
       "CRIM          -0.1628      0.028     -5.756      0.000      -0.218      -0.107\n",
       "ZN             0.0174      0.012      1.463      0.144      -0.006       0.041\n",
       "INDUS          0.0900      0.053      1.707      0.088      -0.014       0.194\n",
       "CHAS           2.5988      0.740      3.511      0.000       1.144       4.053\n",
       "NOX          -13.4647      3.277     -4.109      0.000     -19.903      -7.026\n",
       "RM            10.8250      0.986     10.976      0.000       8.887      12.763\n",
       "AGE            0.0052      0.011      0.461      0.645      -0.017       0.028\n",
       "DIS           -0.9547      0.175     -5.469      0.000      -1.298      -0.612\n",
       "RAD            0.7093      0.476      1.489      0.137      -0.227       1.645\n",
       "TAX            0.0333      0.025      1.354      0.176      -0.015       0.082\n",
       "PTRATIO       -0.6849      0.113     -6.068      0.000      -0.907      -0.463\n",
       "B              0.0048      0.002      2.068      0.039       0.000       0.009\n",
       "LSTAT          1.1528      0.232      4.973      0.000       0.697       1.608\n",
       "RM_LSTAT      -0.2916      0.041     -7.169      0.000      -0.372      -0.212\n",
       "RM_TAX        -0.0072      0.004     -1.828      0.068      -0.015       0.001\n",
       "RM_RAD        -0.0699      0.078     -0.896      0.371      -0.223       0.083\n",
       "==============================================================================\n",
       "Omnibus:                      255.231   Durbin-Watson:                   1.087\n",
       "Prob(Omnibus):                  0.000   Jarque-Bera (JB):             2564.486\n",
       "Skew:                           1.963   Prob(JB):                         0.00\n",
       "Kurtosis:                      13.307   Cond. No.                     1.18e+05\n",
       "==============================================================================\n",
       "\n",
       "Warnings:\n",
       "[1] Standard Errors assume that the covariance matrix of the errors is correctly specified.\n",
       "[2] The condition number is large, 1.18e+05. This might indicate that there are\n",
       "strong multicollinearity or other numerical problems.\n",
       "\"\"\""
      ]
     },
     "execution_count": 40,
     "metadata": {},
     "output_type": "execute_result"
    }
   ],
   "source": [
    "import statsmodels.api as sm\n",
    "X_interact_2 = sm.add_constant(X_interact_2)\n",
    "model = sm.OLS(y,X_interact_2)\n",
    "results = model.fit()\n",
    "results.summary()"
   ]
  },
  {
   "cell_type": "markdown",
   "metadata": {},
   "source": [
    "What is your conclusion here?"
   ]
  },
  {
   "cell_type": "code",
   "execution_count": 41,
   "metadata": {},
   "outputs": [
    {
     "name": "stdout",
     "output_type": "stream",
     "text": [
      "\n",
      "Although by themselves each interaction appeared significant, \n",
      "after adding all of them to the model it looks like some of them\n",
      "are not performing as well as initially thought. Perhaps there is\n",
      "still some additional multicollinearity between two of these new\n",
      "interaction features.\n",
      "\n"
     ]
    }
   ],
   "source": [
    "print(\"\"\"\n",
    "Although by themselves each interaction appeared significant, \n",
    "after adding all of them to the model it looks like some of them\n",
    "are not performing as well as initially thought. Perhaps there is\n",
    "still some additional multicollinearity between two of these new\n",
    "interaction features.\n",
    "\"\"\")"
   ]
  },
  {
   "cell_type": "markdown",
   "metadata": {},
   "source": [
    "## Summary"
   ]
  },
  {
   "cell_type": "markdown",
   "metadata": {},
   "source": [
    "You should now understand how to include interaction effects in your model! As you can see, interactions can have a strong impact on linear regression models, and they should always be considered when you are constructing your models."
   ]
  }
 ],
 "metadata": {
  "kernelspec": {
   "display_name": "Python [conda env:learn-env] *",
   "language": "python",
   "name": "conda-env-learn-env-py"
  },
  "language_info": {
   "codemirror_mode": {
    "name": "ipython",
    "version": 3
   },
   "file_extension": ".py",
   "mimetype": "text/x-python",
   "name": "python",
   "nbconvert_exporter": "python",
   "pygments_lexer": "ipython3",
   "version": "3.6.6"
  }
 },
 "nbformat": 4,
 "nbformat_minor": 2
}
